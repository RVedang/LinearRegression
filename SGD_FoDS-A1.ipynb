{
 "cells": [
  {
   "cell_type": "code",
   "execution_count": 1,
   "id": "adequate-default",
   "metadata": {},
   "outputs": [],
   "source": [
    "#importing the libraries\n",
    "\n",
    "import numpy as np\n",
    "import matplotlib.pyplot as plt\n",
    "import pandas as pd\n",
    "from array import *"
   ]
  },
  {
   "cell_type": "code",
   "execution_count": 2,
   "id": "irish-violence",
   "metadata": {},
   "outputs": [],
   "source": [
    "# reading and shuffling the data\n",
    "\n",
    "df = pd.read_csv(\"FoDS-A1.csv\")\n",
    "df = df.sample(frac = 1)"
   ]
  },
  {
   "cell_type": "code",
   "execution_count": 3,
   "id": "dated-window",
   "metadata": {},
   "outputs": [],
   "source": [
    "# normalising the data values\n",
    "\n",
    "myData = (df - df.min()) / (df.max() - df.min())\n",
    "X = myData.iloc[:, :-1]\n",
    "y = myData.iloc[:, -1:]"
   ]
  },
  {
   "cell_type": "code",
   "execution_count": 4,
   "id": "tender-projection",
   "metadata": {},
   "outputs": [],
   "source": [
    "# splitting the dataset into training data and testing data\n",
    "\n",
    "splitData = int(0.7 * len(myData))\n",
    "train_X, test_X, train_y, test_y = X[:splitData], X[splitData:], y[:splitData], y[splitData:]\n",
    "iter_value=201\n",
    "skip_num=5\n",
    "iter_scaled= int(((iter_value-1)/skip_num)+1)\n",
    "coeff_list = np.zeros((10, 11, 11))\n",
    "error_array = np.zeros((10,iter_scaled))"
   ]
  },
  {
   "cell_type": "code",
   "execution_count": 5,
   "id": "armed-compression",
   "metadata": {},
   "outputs": [],
   "source": [
    "def stocasticGD(deg, X, y, learning_rate, iterations):\n",
    "    \n",
    "    # assigning random values for weights\n",
    "    \n",
    "    A = np.zeros((deg+1, deg+1))\n",
    "    for m in range(deg+1):\n",
    "            for n in range(deg+1-m):\n",
    "                A[m][n] = np.random.randn()\n",
    "                \n",
    "    for itr in range(iterations):\n",
    "        sumItrError = 0\n",
    "        \n",
    "        for z in range(len(X)):    # for each row in input data\n",
    "            row = X.iloc[z]              # contains strength, temperature\n",
    "            column = y.iloc[z]       # contains pressure\n",
    "            \n",
    "            dotP_wx = 0                # variable for calculating error in each iteration\n",
    "            \n",
    "            for m in range(deg+1):                    # power of x1\n",
    "                for n in range(deg+1-m):            # power of x2\n",
    "                    dotP_wx += A[m][n] * (row[0]**m) * (row[1]**n)    # summation of (w0+ w1*x1 + w2*x1^2 + w3*x1*x2 + w4*x2^2 ...)\n",
    "                    \n",
    "            dotP_wx -= column[0]                    # yn - (w0 + w1*x1 + w2*x1^2 + w3*x1*x2 + w4*x2^2 ...) \n",
    "                \n",
    "             # for each parameter(w0,w1,w2,...)    \n",
    "            for m in range(deg+1):                   # power of x1\n",
    "                for n in range(deg+1-m):           # power of x2\n",
    "                    A[m][n] -= (learning_rate/len(X)) * dotP_wx * (row[0]**m) * (row[1]**n) # calculating w0,w1,w2,... for each iteration\n",
    "                    \n",
    "            sumItrError +=  (dotP_wx**2)*0.5  \n",
    "        \n",
    "        if(itr%skip_num == 0):\n",
    "            index = int(itr/skip_num)\n",
    "            error_array[deg][index] = sumItrError\n",
    "        \n",
    "        if(itr == iterations - 1):\n",
    "            print(\"Error of last iteration of degree \", deg, \" :  \" ,sumItrError)\n",
    "            for m in range(deg+1):                   # power of x1\n",
    "                for n in range(deg+1-m):\n",
    "                    coeff_list[deg][m][n] = A[m][n]\n",
    "    return sumItrError\n",
    "\n",
    "#     cost_history = np.zeros(iterations)"
   ]
  },
  {
   "cell_type": "code",
   "execution_count": 6,
   "id": "9b798ef4",
   "metadata": {},
   "outputs": [],
   "source": [
    "def testing_SGD(deg, X, y, learning_rate, iterations):\n",
    "                \n",
    "    for itr in range(iterations):\n",
    "        sumItrError = 0\n",
    "        \n",
    "        for z in range(len(X)):    # for each row in input data\n",
    "            row = X.iloc[z]              # contains strength, temperature\n",
    "            column = y.iloc[z]       # contains pressure\n",
    "            \n",
    "            dotP_wx = 0                # variable for calculating error in each iteration\n",
    "            \n",
    "            for m in range(deg+1):                    # power of x1\n",
    "                for n in range(deg+1-m):            # power of x2\n",
    "                    dotP_wx += coeff_list[deg][m][n] * (row[0]**m) * (row[1]**n)    # summation of (w0+ w1*x1 + w2*x1^2 + w3*x1*x2 + w4*x2^2 ...)\n",
    "                    \n",
    "            dotP_wx -= column[0]                    # yn - (w0 + w1*x1 + w2*x1^2 + w3*x1*x2 + w4*x2^2 ...)\n",
    "                    \n",
    "            sumItrError +=  (dotP_wx**2)*0.5  \n",
    "            \n",
    "        if(itr == iterations - 1):\n",
    "            print(\"Error of last iteration of degree \", deg, \" :  \" ,sumItrError)\n",
    "            \n",
    "    return sumItrError"
   ]
  },
  {
   "cell_type": "code",
   "execution_count": null,
   "id": "stylish-simulation",
   "metadata": {
    "scrolled": true
   },
   "outputs": [
    {
     "name": "stdout",
     "output_type": "stream",
     "text": [
      "Error of last iteration of degree  0  :   68.96343274967978\n",
      "[68.96343274976553, 68.96343274967978, 68.96343274967978, 68.96343274967978, 68.96343274967978, 0.0, 0.0, 0.0, 0.0, 0.0, 0.0, 0.0, 0.0, 0.0, 0.0, 0.0, 0.0, 0.0, 0.0, 0.0, 0.0, 0.0, 0.0, 0.0, 0.0, 0.0, 0.0, 0.0, 0.0, 0.0, 0.0, 0.0, 0.0, 0.0, 0.0, 0.0, 0.0, 0.0, 0.0, 0.0, 0.0]\n",
      "[0, 5, 10, 15, 20, 25, 30, 35, 40, 45, 50, 55, 60, 65, 70, 75, 80, 85, 90, 95, 100, 105, 110, 115, 120, 125, 130, 135, 140, 145, 150, 155, 160, 165, 170, 175, 180, 185, 190, 195, 200]\n"
     ]
    },
    {
     "data": {
      "image/png": "[encoded data removed]",
      "text/plain": [
       "<Figure size 432x288 with 1 Axes>"
      ]
     },
     "metadata": {
      "needs_background": "light"
     },
     "output_type": "display_data"
    },
    {
     "name": "stdout",
     "output_type": "stream",
     "text": [
      "Error of last iteration of degree  1  :   37.59025308096698\n",
      "[99.98714991253604, 70.72969437821267, 51.4192168735871, 38.605823538250256, 37.59025308096698, 0.0, 0.0, 0.0, 0.0, 0.0, 0.0, 0.0, 0.0, 0.0, 0.0, 0.0, 0.0, 0.0, 0.0, 0.0, 0.0, 0.0, 0.0, 0.0, 0.0, 0.0, 0.0, 0.0, 0.0, 0.0, 0.0, 0.0, 0.0, 0.0, 0.0, 0.0, 0.0, 0.0, 0.0, 0.0, 0.0]\n",
      "[0, 5, 10, 15, 20, 25, 30, 35, 40, 45, 50, 55, 60, 65, 70, 75, 80, 85, 90, 95, 100, 105, 110, 115, 120, 125, 130, 135, 140, 145, 150, 155, 160, 165, 170, 175, 180, 185, 190, 195, 200]\n"
     ]
    },
    {
     "data": {
      "image/png": "[encoded data removed]",
      "text/plain": [
       "<Figure size 432x288 with 1 Axes>"
      ]
     },
     "metadata": {
      "needs_background": "light"
     },
     "output_type": "display_data"
    }
   ],
   "source": [
    "#For training data\n",
    "minError = 100000\n",
    "minErrorDeg = -1\n",
    "x_axis=[]\n",
    "for i in range(iter_scaled):\n",
    "    x_axis.append(i*skip_num)\n",
    "    \n",
    "for i in range(10):\n",
    "    SGD_Error = stocasticGD(i, train_X, train_y, 0.5, iter_value)\n",
    "    \n",
    "    error_list = error_array[i].tolist()  \n",
    "    print(error_list)\n",
    "    print(x_axis)\n",
    "    plt.plot(x_axis, error_list)\n",
    "    plt.xlabel('Number of Iterations')\n",
    "    plt.ylabel('Error')\n",
    "    title = \"Error graph for degree: \" + str(i)\n",
    "    plt.title(title)\n",
    "    plt.show()\n",
    "    error_list=error_array[i].tolist()\n",
    "    \n",
    "    if(SGD_Error <= minError):\n",
    "        minError = SGD_Error\n",
    "        minErrorDeg = i\n",
    "print(\"Degree \", minErrorDeg, \" gives minimum error.\")      \n"
   ]
  },
  {
   "cell_type": "code",
   "execution_count": null,
   "id": "greek-twist",
   "metadata": {
    "scrolled": true
   },
   "outputs": [],
   "source": [
    "# for testing data\n",
    "minError = 100000\n",
    "minErrorDeg = -1\n",
    "for i in range(3):\n",
    "    SGD_Error = testing_SGD(i, test_X, test_y, 0.5, iter_value)    \n",
    "    if(SGD_Error <= minError):\n",
    "        minError = SGD_Error\n",
    "        minErrorDeg = i\n",
    "print(\"Degree \", minErrorDeg, \" gives minimum error.\") "
   ]
  },
  {
   "cell_type": "code",
   "execution_count": null,
   "id": "d37b14e2",
   "metadata": {},
   "outputs": [],
   "source": [
    "list1=coeff_list[9].tolist()\n",
    "print(list1)"
   ]
  },
  {
   "cell_type": "code",
   "execution_count": null,
   "id": "48f1b3c3",
   "metadata": {},
   "outputs": [],
   "source": [
    "for i in range(10):\n",
    "    print(i)"
   ]
  },
  {
   "cell_type": "code",
   "execution_count": null,
   "id": "35c25ea6",
   "metadata": {},
   "outputs": [],
   "source": []
  }
 ],
 "metadata": {
  "kernelspec": {
   "display_name": "Python 3 (ipykernel)",
   "language": "python",
   "name": "python3"
  },
  "language_info": {
   "codemirror_mode": {
    "name": "ipython",
    "version": 3
   },
   "file_extension": ".py",
   "mimetype": "text/x-python",
   "name": "python",
   "nbconvert_exporter": "python",
   "pygments_lexer": "ipython3",
   "version": "3.9.7"
  }
 },
 "nbformat": 4,
 "nbformat_minor": 5
}
